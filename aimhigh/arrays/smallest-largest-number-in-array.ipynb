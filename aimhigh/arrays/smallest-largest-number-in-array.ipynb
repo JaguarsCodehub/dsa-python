{
 "cells": [
  {
   "cell_type": "code",
   "execution_count": 1,
   "id": "d1aa3fe6",
   "metadata": {},
   "outputs": [
    {
     "name": "stdout",
     "output_type": "stream",
     "text": [
      "2\n"
     ]
    }
   ],
   "source": [
    "def smallest_num(arr):\n",
    "\n",
    "    smallest = arr[0]\n",
    "\n",
    "    for num in arr:\n",
    "        if num < smallest:\n",
    "            smallest = num\n",
    "\n",
    "    return smallest\n",
    "\n",
    "arr = [5, 7, 6, 9, 2]\n",
    "print(smallest_num(arr))"
   ]
  },
  {
   "cell_type": "code",
   "execution_count": 1,
   "id": "a9943067",
   "metadata": {},
   "outputs": [
    {
     "name": "stdout",
     "output_type": "stream",
     "text": [
      "9\n"
     ]
    }
   ],
   "source": [
    "def largest_num(arr):\n",
    "\n",
    "    largest = arr[0]\n",
    "\n",
    "    for num in arr:\n",
    "        if num > largest:\n",
    "            largest = num\n",
    "\n",
    "    return largest\n",
    "\n",
    "arr = [5, 7, 6, 9, 2]\n",
    "print(largest_num(arr)) "
   ]
  }
 ],
 "metadata": {
  "kernelspec": {
   "display_name": "Python 3",
   "language": "python",
   "name": "python3"
  },
  "language_info": {
   "codemirror_mode": {
    "name": "ipython",
    "version": 3
   },
   "file_extension": ".py",
   "mimetype": "text/x-python",
   "name": "python",
   "nbconvert_exporter": "python",
   "pygments_lexer": "ipython3",
   "version": "3.10.5"
  }
 },
 "nbformat": 4,
 "nbformat_minor": 5
}
