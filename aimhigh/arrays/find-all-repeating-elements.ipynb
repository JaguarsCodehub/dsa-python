{
 "cells": [
  {
   "cell_type": "code",
   "execution_count": 2,
   "id": "a679d9f8",
   "metadata": {},
   "outputs": [
    {
     "name": "stdout",
     "output_type": "stream",
     "text": [
      "[1, 2, 3, 4, 5, 9]\n"
     ]
    }
   ],
   "source": [
    "def findAllRepeatingElements(arr):\n",
    "    frequency = {}\n",
    "    result = []\n",
    "\n",
    "    for num in arr:\n",
    "        if num in frequency:\n",
    "            frequency[num] += 1\n",
    "        else:\n",
    "            frequency[num] = 1\n",
    "\n",
    "    for key, count in frequency.items():\n",
    "        if count > 1:\n",
    "            result.append(key)\n",
    "\n",
    "    return result\n",
    "\n",
    "\n",
    "arr = [1, 2, 3, 4, 5, 1, 2, 3, 4, 5, 5, 4, 2, 9, 10, 9]\n",
    "print(findAllRepeatingElements(arr))"
   ]
  }
 ],
 "metadata": {
  "kernelspec": {
   "display_name": "Python 3",
   "language": "python",
   "name": "python3"
  },
  "language_info": {
   "codemirror_mode": {
    "name": "ipython",
    "version": 3
   },
   "file_extension": ".py",
   "mimetype": "text/x-python",
   "name": "python",
   "nbconvert_exporter": "python",
   "pygments_lexer": "ipython3",
   "version": "3.10.5"
  }
 },
 "nbformat": 4,
 "nbformat_minor": 5
}
