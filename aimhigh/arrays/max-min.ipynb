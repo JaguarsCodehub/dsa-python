{
 "cells": [
  {
   "cell_type": "code",
   "execution_count": 3,
   "id": "90eea2e8",
   "metadata": {},
   "outputs": [
    {
     "name": "stdout",
     "output_type": "stream",
     "text": [
      "Maximum: 5\n",
      "Minimum: 1\n"
     ]
    }
   ],
   "source": [
    "def max_min(arr):\n",
    "    if not arr:\n",
    "        return \"Not an array\"\n",
    "    \n",
    "    maximum = minimum = arr[0]\n",
    "\n",
    "    for num in arr:\n",
    "        if num > maximum:\n",
    "            maximum = num\n",
    "        if num < minimum:\n",
    "            minimum = num\n",
    "\n",
    "    return maximum, minimum\n",
    "\n",
    "arr = [1, 2, 3, 4, 5]\n",
    "maximum, minimum = max_min(arr)\n",
    "print(\"Maximum:\", maximum)\n",
    "print(\"Minimum:\", minimum)\n"
   ]
  }
 ],
 "metadata": {
  "kernelspec": {
   "display_name": "Python 3",
   "language": "python",
   "name": "python3"
  },
  "language_info": {
   "codemirror_mode": {
    "name": "ipython",
    "version": 3
   },
   "file_extension": ".py",
   "mimetype": "text/x-python",
   "name": "python",
   "nbconvert_exporter": "python",
   "pygments_lexer": "ipython3",
   "version": "3.10.5"
  }
 },
 "nbformat": 4,
 "nbformat_minor": 5
}
