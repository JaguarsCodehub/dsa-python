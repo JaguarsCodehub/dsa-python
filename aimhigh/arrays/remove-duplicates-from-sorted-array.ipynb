{
 "cells": [
  {
   "cell_type": "code",
   "execution_count": null,
   "id": "130ed2b5",
   "metadata": {},
   "outputs": [
    {
     "name": "stdout",
     "output_type": "stream",
     "text": [
      "[1, 2, 3, 4, 5, 9]\n"
     ]
    }
   ],
   "source": [
    "def removeDuplicates(arr):\n",
    "    result = [arr[0]]\n",
    "\n",
    "    for num in arr[1:]:\n",
    "        if num != result[-1]:\n",
    "            result.append(num)\n",
    "\n",
    "    return result\n",
    "\n",
    "\n",
    "arr = [1, 1, 2, 2, 3, 3, 4, 4, 5, 5,9]\n",
    "print(removeDuplicates(arr))\n",
    "\n"
   ]
  }
 ],
 "metadata": {
  "kernelspec": {
   "display_name": "Python 3",
   "language": "python",
   "name": "python3"
  },
  "language_info": {
   "codemirror_mode": {
    "name": "ipython",
    "version": 3
   },
   "file_extension": ".py",
   "mimetype": "text/x-python",
   "name": "python",
   "nbconvert_exporter": "python",
   "pygments_lexer": "ipython3",
   "version": "3.10.5"
  }
 },
 "nbformat": 4,
 "nbformat_minor": 5
}
