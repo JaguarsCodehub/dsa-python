{
 "cells": [
  {
   "cell_type": "code",
   "execution_count": 1,
   "id": "9fb426d5",
   "metadata": {},
   "outputs": [
    {
     "name": "stdout",
     "output_type": "stream",
     "text": [
      "True\n"
     ]
    }
   ],
   "source": [
    "def contains_duplicate(arr):\n",
    "\n",
    "    seen = {}\n",
    "\n",
    "    for num in arr:\n",
    "        if num in seen:\n",
    "            return True\n",
    "        seen[num] = 1\n",
    "    return False\n",
    "\n",
    "arr = [1, 2, 3, 4, 5, 3]\n",
    "print(contains_duplicate(arr))"
   ]
  },
  {
   "cell_type": "code",
   "execution_count": null,
   "id": "08bedc54",
   "metadata": {},
   "outputs": [],
   "source": [
    "def contains_duplicate(arr):\n",
    "    seen = {}  # Initialize an empty dictionary to keep track of seen elements.\n",
    "\n",
    "    for num in arr:  # Iterate through each element in the input list `arr`.\n",
    "        if num in seen:  # Check if the current element `num` is already in the dictionary.\n",
    "            return True  # If it is, return True because a duplicate is found.\n",
    "        seen[num] = 1  # Otherwise, add the element to the dictionary with a value of 1.\n",
    "    return False  # If the loop completes without finding duplicates, return False.\n",
    "\n",
    "arr = [1, 2, 3, 4, 5, 3]  # Define a list with some duplicate elements.\n",
    "print(contains_duplicate(arr))  # Call the function and print the result."
   ]
  }
 ],
 "metadata": {
  "kernelspec": {
   "display_name": "Python 3",
   "language": "python",
   "name": "python3"
  },
  "language_info": {
   "codemirror_mode": {
    "name": "ipython",
    "version": 3
   },
   "file_extension": ".py",
   "mimetype": "text/x-python",
   "name": "python",
   "nbconvert_exporter": "python",
   "pygments_lexer": "ipython3",
   "version": "3.10.5"
  }
 },
 "nbformat": 4,
 "nbformat_minor": 5
}
