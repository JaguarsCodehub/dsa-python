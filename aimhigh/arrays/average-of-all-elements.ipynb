{
 "cells": [
  {
   "cell_type": "code",
   "execution_count": 1,
   "id": "05139edd",
   "metadata": {},
   "outputs": [
    {
     "name": "stdout",
     "output_type": "stream",
     "text": [
      "20.0\n"
     ]
    }
   ],
   "source": [
    "def sumOfArray(arr):\n",
    "    result = 0\n",
    "\n",
    "    for num in arr:\n",
    "        result = result + num\n",
    "    \n",
    "    return result\n",
    "\n",
    "def averageOfAllElements(arr):\n",
    "    return sumOfArray(arr) / len(arr)\n",
    "\n",
    "arr = [10,20,30]\n",
    "print(averageOfAllElements(arr))"
   ]
  }
 ],
 "metadata": {
  "kernelspec": {
   "display_name": "Python 3",
   "language": "python",
   "name": "python3"
  },
  "language_info": {
   "codemirror_mode": {
    "name": "ipython",
    "version": 3
   },
   "file_extension": ".py",
   "mimetype": "text/x-python",
   "name": "python",
   "nbconvert_exporter": "python",
   "pygments_lexer": "ipython3",
   "version": "3.10.5"
  }
 },
 "nbformat": 4,
 "nbformat_minor": 5
}
