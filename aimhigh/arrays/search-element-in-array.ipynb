{
 "cells": [
  {
   "cell_type": "code",
   "execution_count": null,
   "id": "2ce94905",
   "metadata": {},
   "outputs": [],
   "source": [
    "def search_element(arr, target):\n",
    "    # Initialize an empty list to store the indices where the target is found\n",
    "    indices = []\n",
    "\n",
    "    # Iterate through the array using its indices\n",
    "    for i in range(len(arr)):\n",
    "        # Check if the current element matches the target\n",
    "        if arr[i] == target:\n",
    "            # If a match is found, append the index to the indices list\n",
    "            indices.append(i)\n",
    "        \n",
    "    # After the loop, check if the indices list is empty\n",
    "    if not indices:\n",
    "        # If no indices were added, it means the target was not found in the array\n",
    "        return \"Element not found\"\n",
    "    else:\n",
    "        # If indices were added, return the list of indices where the target was found\n",
    "        return indices\n",
    "    \n",
    "# Input array (already defined in the notebook as 'arr')\n",
    "arr = [1, 1, 2, 2, 3, 3, 4, 4, 5, 5]\n",
    "\n",
    "# Target element to search for\n",
    "target = 3\n",
    "\n",
    "# Call the function to search for the target in the array\n",
    "result = search_element(arr, target)\n",
    "\n",
    "# Print the result, showing the indices where the target was found\n",
    "print(f\"Element {target} found at index(es):\", result)"
   ]
  }
 ],
 "metadata": {
  "language_info": {
   "name": "python"
  }
 },
 "nbformat": 4,
 "nbformat_minor": 5
}
