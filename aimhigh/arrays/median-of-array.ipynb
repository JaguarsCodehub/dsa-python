{
 "cells": [
  {
   "cell_type": "code",
   "execution_count": null,
   "id": "5481d8a0",
   "metadata": {},
   "outputs": [
    {
     "name": "stdout",
     "output_type": "stream",
     "text": [
      "5\n"
     ]
    }
   ],
   "source": [
    "def medianOfArray(arr):\n",
    "\n",
    "    n = len(arr)\n",
    "\n",
    "    mid = n // 2\n",
    "\n",
    "    if n % 2 == 0:\n",
    "        median = (arr[mid - 1] + arr[mid]) // 2\n",
    "    else:\n",
    "        median = arr[mid]\n",
    "    \n",
    "    return median\n",
    "\n",
    "arr = [1, 2, 3, 4, 5, 6, 7, 8, 9, 10]\n",
    "print(medianOfArray(arr))"
   ]
  }
 ],
 "metadata": {
  "kernelspec": {
   "display_name": "Python 3",
   "language": "python",
   "name": "python3"
  },
  "language_info": {
   "codemirror_mode": {
    "name": "ipython",
    "version": 3
   },
   "file_extension": ".py",
   "mimetype": "text/x-python",
   "name": "python",
   "nbconvert_exporter": "python",
   "pygments_lexer": "ipython3",
   "version": "3.10.5"
  }
 },
 "nbformat": 4,
 "nbformat_minor": 5
}
