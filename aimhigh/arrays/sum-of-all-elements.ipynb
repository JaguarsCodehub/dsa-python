{
 "cells": [
  {
   "cell_type": "code",
   "execution_count": 2,
   "id": "acb63bbb",
   "metadata": {},
   "outputs": [
    {
     "name": "stdout",
     "output_type": "stream",
     "text": [
      "49\n"
     ]
    }
   ],
   "source": [
    "def sumOfAllElements(arr):\n",
    "    result = 0\n",
    "\n",
    "    for num in arr:\n",
    "        result = result + num\n",
    "    return result\n",
    "\n",
    "arr = [1,4,6,8,10,20]\n",
    "print(sumOfAllElements(arr))"
   ]
  }
 ],
 "metadata": {
  "kernelspec": {
   "display_name": "Python 3",
   "language": "python",
   "name": "python3"
  },
  "language_info": {
   "codemirror_mode": {
    "name": "ipython",
    "version": 3
   },
   "file_extension": ".py",
   "mimetype": "text/x-python",
   "name": "python",
   "nbconvert_exporter": "python",
   "pygments_lexer": "ipython3",
   "version": "3.10.5"
  }
 },
 "nbformat": 4,
 "nbformat_minor": 5
}
