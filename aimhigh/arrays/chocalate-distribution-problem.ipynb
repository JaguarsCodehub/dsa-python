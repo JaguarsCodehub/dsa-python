{
 "cells": [
  {
   "cell_type": "code",
   "execution_count": 3,
   "id": "aba5cb1d",
   "metadata": {},
   "outputs": [
    {
     "name": "stdout",
     "output_type": "stream",
     "text": [
      "Minimum Difference: 7\n"
     ]
    }
   ],
   "source": [
    "def chocolate_distribution(arr, m):\n",
    "    n = len(arr)\n",
    "\n",
    "    if m == 0 or n == 0 or m > n:\n",
    "        return \"Not Valid\"\n",
    "    \n",
    "    arr.sort()\n",
    "\n",
    "    min_diff = float(\"inf\")\n",
    "\n",
    "    for i in range(n - m + 1):\n",
    "        diff = arr[i + m- 1] - arr[i]\n",
    "        if diff < min_diff:\n",
    "            min_diff = diff\n",
    "        min_diff = min(min_diff, diff)\n",
    "\n",
    "    return min_diff\n",
    "\n",
    "arr = [7, 3, 2, 4, 9, 12, 56]\n",
    "m = 5\n",
    "print(\"Minimum Difference:\", chocolate_distribution(arr, m))"
   ]
  }
 ],
 "metadata": {
  "kernelspec": {
   "display_name": "Python 3",
   "language": "python",
   "name": "python3"
  },
  "language_info": {
   "codemirror_mode": {
    "name": "ipython",
    "version": 3
   },
   "file_extension": ".py",
   "mimetype": "text/x-python",
   "name": "python",
   "nbconvert_exporter": "python",
   "pygments_lexer": "ipython3",
   "version": "3.10.5"
  }
 },
 "nbformat": 4,
 "nbformat_minor": 5
}
