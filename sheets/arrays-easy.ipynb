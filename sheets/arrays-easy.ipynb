{
 "cells": [
  {
   "cell_type": "markdown",
   "id": "fa1985cc",
   "metadata": {},
   "source": [
    "## **Arrays Easy**"
   ]
  },
  {
   "cell_type": "markdown",
   "id": "b97e910c",
   "metadata": {},
   "source": [
    "### Maximum and Minimum Element in an Array"
   ]
  },
  {
   "cell_type": "code",
   "execution_count": 2,
   "id": "1ff7d9aa",
   "metadata": {},
   "outputs": [
    {
     "name": "stdout",
     "output_type": "stream",
     "text": [
      "Maximum: 10\n",
      "Minimum: 1\n"
     ]
    }
   ],
   "source": [
    "def max_min(arr):\n",
    "    if not arr:\n",
    "        return \"Array is empty\"\n",
    "    \n",
    "    maximum = minimum = arr[0]\n",
    "\n",
    "    for num in arr:\n",
    "        if num > maximum:\n",
    "            maximum = num\n",
    "        elif num < minimum:\n",
    "            minimum = num\n",
    "    \n",
    "    return maximum, minimum\n",
    "\n",
    "\n",
    "arr = [7, 2, 8, 4, 10, 1]\n",
    "maximum, minimum = max_min(arr)\n",
    "print(\"Maximum:\", maximum)  # ➜ 10\n",
    "print(\"Minimum:\", minimum)  # ➜ 1\n"
   ]
  },
  {
   "cell_type": "markdown",
   "id": "def915f5",
   "metadata": {},
   "source": [
    "### Reverse the Array"
   ]
  },
  {
   "cell_type": "code",
   "execution_count": 3,
   "id": "6cfd79a5",
   "metadata": {},
   "outputs": [
    {
     "name": "stdout",
     "output_type": "stream",
     "text": [
      "[5, 4, 3, 2, 1]\n"
     ]
    }
   ],
   "source": [
    "def reverse_array(arr):\n",
    "    return arr[::-1]\n",
    "\n",
    "arr = [1, 2, 3, 4, 5]\n",
    "reversed_arr = reverse_array(arr)\n",
    "print(reversed_arr)  # ➜ [5, 4, 3, 2, 1]"
   ]
  },
  {
   "cell_type": "code",
   "execution_count": null,
   "id": "a9cc873c",
   "metadata": {},
   "outputs": [],
   "source": []
  }
 ],
 "metadata": {
  "kernelspec": {
   "display_name": "Python 3",
   "language": "python",
   "name": "python3"
  },
  "language_info": {
   "codemirror_mode": {
    "name": "ipython",
    "version": 3
   },
   "file_extension": ".py",
   "mimetype": "text/x-python",
   "name": "python",
   "nbconvert_exporter": "python",
   "pygments_lexer": "ipython3",
   "version": "3.10.5"
  }
 },
 "nbformat": 4,
 "nbformat_minor": 5
}
