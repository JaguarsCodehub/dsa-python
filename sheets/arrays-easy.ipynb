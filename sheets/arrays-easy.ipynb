{
 "cells": [
  {
   "cell_type": "markdown",
   "id": "fa1985cc",
   "metadata": {},
   "source": [
    "## **Arrays Easy**"
   ]
  },
  {
   "cell_type": "markdown",
   "id": "b97e910c",
   "metadata": {},
   "source": [
    "### Maximum and Minimum Element in an Array"
   ]
  },
  {
   "cell_type": "code",
   "execution_count": 2,
   "id": "1ff7d9aa",
   "metadata": {},
   "outputs": [
    {
     "name": "stdout",
     "output_type": "stream",
     "text": [
      "Maximum: 10\n",
      "Minimum: 1\n"
     ]
    }
   ],
   "source": [
    "def max_min(arr):\n",
    "    if not arr:\n",
    "        return \"Array is empty\"\n",
    "    \n",
    "    maximum = minimum = arr[0]\n",
    "\n",
    "    for num in arr:\n",
    "        if num > maximum:\n",
    "            maximum = num\n",
    "        elif num < minimum:\n",
    "            minimum = num\n",
    "    \n",
    "    return maximum, minimum\n",
    "\n",
    "\n",
    "arr = [7, 2, 8, 4, 10, 1]\n",
    "maximum, minimum = max_min(arr)\n",
    "print(\"Maximum:\", maximum)  # ➜ 10\n",
    "print(\"Minimum:\", minimum)  # ➜ 1\n"
   ]
  },
  {
   "cell_type": "markdown",
   "id": "def915f5",
   "metadata": {},
   "source": [
    "### Reverse the Array"
   ]
  },
  {
   "cell_type": "code",
   "execution_count": 3,
   "id": "6cfd79a5",
   "metadata": {},
   "outputs": [
    {
     "name": "stdout",
     "output_type": "stream",
     "text": [
      "[5, 4, 3, 2, 1]\n"
     ]
    }
   ],
   "source": [
    "def reverse_array(arr):\n",
    "    return arr[::-1]\n",
    "\n",
    "arr = [1, 2, 3, 4, 5]\n",
    "reversed_arr = reverse_array(arr)\n",
    "print(reversed_arr)  # ➜ [5, 4, 3, 2, 1]"
   ]
  },
  {
   "cell_type": "markdown",
   "id": "1ff56dbc",
   "metadata": {},
   "source": [
    "### Contains Duplicate"
   ]
  },
  {
   "cell_type": "code",
   "execution_count": null,
   "id": "feef292b",
   "metadata": {},
   "outputs": [],
   "source": [
    "def contains_duplicate(arr):\n",
    "    seen = {}\n",
    "\n",
    "    for num in arr:\n",
    "        if num in seen:\n",
    "            return True\n",
    "        seen[num] = 1\n",
    "    return False\n",
    "\n",
    "arr = [1, 2, 3, 4, 5]\n",
    "result = contains_duplicate(arr)\n",
    "print(result)  # ➜ False"
   ]
  },
  {
   "cell_type": "markdown",
   "id": "c2432562",
   "metadata": {},
   "source": [
    "## What is the Chocolate Distribution Problem?\n",
    "\n",
    "Imagine you are a teacher, and you have a box of chocolate packets. Each packet has a different number of chocolates.\n",
    "\n",
    "You also have m students, and your goal is to distribute one packet to each student, such that:\n",
    "\n",
    "    📉 The difference between the packet with the most chocolates and the one with the least chocolates is as small as possible.\n",
    "\n",
    "In simpler words:\n",
    "\n",
    "    Every student should get exactly one packet.\n",
    "\n",
    "    You want the distribution to be fair — the least gap between most and least chocolates among the packets given."
   ]
  },
  {
   "cell_type": "markdown",
   "id": "2ca5cdf6",
   "metadata": {},
   "source": [
    "How it Works:\n",
    "\n",
    "    Sort the array.\n",
    "\n",
    "    Traverse through all windows of size m.\n",
    "\n",
    "    For each window, calculate the difference between last and first element (max - min).\n",
    "\n",
    "    Track the minimum of these differences."
   ]
  },
  {
   "cell_type": "code",
   "execution_count": 5,
   "id": "7961fdef",
   "metadata": {},
   "outputs": [
    {
     "name": "stdout",
     "output_type": "stream",
     "text": [
      "Minimum Difference: 7\n"
     ]
    }
   ],
   "source": [
    "def chocolate_distribution(arr, m):\n",
    "\n",
    "    n = len(arr)\n",
    "\n",
    "    if m == 0 or n == 0 or m > n:\n",
    "        return 0\n",
    "    \n",
    "    arr.sort()\n",
    "\n",
    "    min_diff = float(\"inf\")\n",
    "\n",
    "    for i in range(n - m + 1):\n",
    "        diff = arr[i + m- 1] - arr[i]\n",
    "\n",
    "        if diff < min_diff:\n",
    "            min_diff = diff\n",
    "    \n",
    "    return min_diff\n",
    "\n",
    "arr = [7, 3, 2, 4, 9, 12, 56]\n",
    "m = 5\n",
    "print(\"Minimum Difference:\", chocolate_distribution(arr, m))  # ➜ 2"
   ]
  }
 ],
 "metadata": {
  "kernelspec": {
   "display_name": "Python 3",
   "language": "python",
   "name": "python3"
  },
  "language_info": {
   "codemirror_mode": {
    "name": "ipython",
    "version": 3
   },
   "file_extension": ".py",
   "mimetype": "text/x-python",
   "name": "python",
   "nbconvert_exporter": "python",
   "pygments_lexer": "ipython3",
   "version": "3.10.5"
  }
 },
 "nbformat": 4,
 "nbformat_minor": 5
}
