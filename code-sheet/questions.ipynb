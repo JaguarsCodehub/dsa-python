{
 "cells": [
  {
   "cell_type": "markdown",
   "id": "c2a1f9a4",
   "metadata": {},
   "source": [
    "# **Questions Cheatsheet**"
   ]
  },
  {
   "cell_type": "markdown",
   "id": "2789ea05",
   "metadata": {},
   "source": [
    "### 1. A supermarket maintains a pricing format for all its products. A value N printed on each product. When\n",
    "the scanner reads the value N on the item, the product of all the digits in the value N is the price of the item.\n",
    "The task is to design a software such that given the code of any item N the product(multiplication) of all the\n",
    "digits of value should be computed(price)\n",
    "\n",
    "```python\n",
    "Example 1:\n",
    "Input:\n",
    "5244 -->Value of N\n",
    "Output:\n",
    "160 -->Price\n",
    "Solve in Python\n",
    "```"
   ]
  },
  {
   "cell_type": "code",
   "execution_count": 2,
   "id": "b39b3639",
   "metadata": {},
   "outputs": [
    {
     "name": "stdout",
     "output_type": "stream",
     "text": [
      "32\n"
     ]
    }
   ],
   "source": [
    "def compute_prices(s):\n",
    "    product = 1\n",
    "\n",
    "    for digit in s:\n",
    "        product = product * int(digit)\n",
    "    return product\n",
    "\n",
    "\n",
    "print(compute_prices(input()))"
   ]
  },
  {
   "cell_type": "markdown",
   "id": "8e04d43d",
   "metadata": {},
   "source": [
    "### Q2. An event management company has come up with a unique idea of printing their event tickets. Based\n",
    "on the ticket number combination (str1), the visitor is directed towards a particular class of audience. The\n",
    "task is to create a program/application to fetch the ticket number based on the following conditions:\n",
    "Any occurrences of digits EF, 56 and G, & should be deleted\n",
    "The characters EF should be in the same format.\n",
    "\n",
    "```python\n",
    "Example 1:\n",
    "Input:\n",
    "4523EF58G -> Value of STR1\n",
    "Output:\n",
    "452358 -> After removal of characters\n",
    "‘EF’ and ‘G’\n",
    "# Solve in Python\n",
    "```"
   ]
  },
  {
   "cell_type": "code",
   "execution_count": 3,
   "id": "08012234",
   "metadata": {},
   "outputs": [
    {
     "name": "stdout",
     "output_type": "stream",
     "text": [
      "ARTasd34\n"
     ]
    }
   ],
   "source": [
    "def clean_ticker(str1):\n",
    "\n",
    "    # Remove unwanted patterns\n",
    "    str1 = str1.replace(\"EF\", \"\")\n",
    "    str1 = str1.replace(\"56\", \"\")\n",
    "    str1 = str1.replace(\"G\", \"\")\n",
    "    str1 = str1.replace(\"&\", \"\")\n",
    "    return str1\n",
    "\n",
    "print(clean_ticker(input()))"
   ]
  },
  {
   "cell_type": "code",
   "execution_count": 4,
   "id": "41aa6d28",
   "metadata": {},
   "outputs": [
    {
     "name": "stdout",
     "output_type": "stream",
     "text": [
      "ARTFHTEQ12309qwee\n"
     ]
    }
   ],
   "source": [
    "def clean_tickets(s):\n",
    "\n",
    "    pattern = ['EF', '56', 'G', '&']\n",
    "    \n",
    "    for p in pattern:\n",
    "        s= s.replace(p, '')\n",
    "    return s\n",
    "\n",
    "print(clean_tickets(input()))"
   ]
  }
 ],
 "metadata": {
  "kernelspec": {
   "display_name": "Python 3",
   "language": "python",
   "name": "python3"
  },
  "language_info": {
   "codemirror_mode": {
    "name": "ipython",
    "version": 3
   },
   "file_extension": ".py",
   "mimetype": "text/x-python",
   "name": "python",
   "nbconvert_exporter": "python",
   "pygments_lexer": "ipython3",
   "version": "3.10.5"
  }
 },
 "nbformat": 4,
 "nbformat_minor": 5
}
