{
 "cells": [
  {
   "cell_type": "markdown",
   "id": "c2a1f9a4",
   "metadata": {},
   "source": [
    "# **Questions Cheatsheet**"
   ]
  },
  {
   "cell_type": "markdown",
   "id": "2789ea05",
   "metadata": {},
   "source": [
    "### 1. A supermarket maintains a pricing format for all its products. A value N printed on each product. When\n",
    "the scanner reads the value N on the item, the product of all the digits in the value N is the price of the item.\n",
    "The task is to design a software such that given the code of any item N the product(multiplication) of all the\n",
    "digits of value should be computed(price)\n",
    "\n",
    "```python\n",
    "Example 1:\n",
    "Input:\n",
    "5244 -->Value of N\n",
    "Output:\n",
    "160 -->Price\n",
    "Solve in Python\n",
    "```"
   ]
  },
  {
   "cell_type": "code",
   "execution_count": 2,
   "id": "b39b3639",
   "metadata": {},
   "outputs": [
    {
     "name": "stdout",
     "output_type": "stream",
     "text": [
      "32\n"
     ]
    }
   ],
   "source": [
    "def compute_prices(s):\n",
    "    product = 1\n",
    "\n",
    "    for digit in s:\n",
    "        product = product * int(digit)\n",
    "    return product\n",
    "\n",
    "\n",
    "print(compute_prices(input()))"
   ]
  },
  {
   "cell_type": "markdown",
   "id": "8e04d43d",
   "metadata": {},
   "source": [
    "### Q2. An event management company has come up with a unique idea of printing their event tickets. Based\n",
    "on the ticket number combination (str1), the visitor is directed towards a particular class of audience. The\n",
    "task is to create a program/application to fetch the ticket number based on the following conditions:\n",
    "Any occurrences of digits EF, 56 and G, & should be deleted\n",
    "The characters EF should be in the same format.\n",
    "\n",
    "```python\n",
    "Example 1:\n",
    "Input:\n",
    "4523EF58G -> Value of STR1\n",
    "Output:\n",
    "452358 -> After removal of characters\n",
    "‘EF’ and ‘G’\n",
    "# Solve in Python\n",
    "```"
   ]
  },
  {
   "cell_type": "code",
   "execution_count": 3,
   "id": "08012234",
   "metadata": {},
   "outputs": [
    {
     "name": "stdout",
     "output_type": "stream",
     "text": [
      "ARTasd34\n"
     ]
    }
   ],
   "source": [
    "def clean_ticker(str1):\n",
    "\n",
    "    # Remove unwanted patterns\n",
    "    str1 = str1.replace(\"EF\", \"\")\n",
    "    str1 = str1.replace(\"56\", \"\")\n",
    "    str1 = str1.replace(\"G\", \"\")\n",
    "    str1 = str1.replace(\"&\", \"\")\n",
    "    return str1\n",
    "\n",
    "print(clean_ticker(input()))"
   ]
  },
  {
   "cell_type": "code",
   "execution_count": 4,
   "id": "41aa6d28",
   "metadata": {},
   "outputs": [
    {
     "name": "stdout",
     "output_type": "stream",
     "text": [
      "ARTFHTEQ12309qwee\n"
     ]
    }
   ],
   "source": [
    "def clean_tickets(s):\n",
    "\n",
    "    pattern = ['EF', '56', 'G', '&']\n",
    "    \n",
    "    for p in pattern:\n",
    "        s= s.replace(p, '')\n",
    "    return s\n",
    "\n",
    "print(clean_tickets(input()))"
   ]
  },
  {
   "cell_type": "markdown",
   "id": "9047ac57",
   "metadata": {},
   "source": [
    "### Q3. A carpet manufacturing industry has newly ventured into the carpet installation business. All the carpets\n",
    "manufactured are large squares in shape. To install, each carpet has to be cut into shapes of squares or\n",
    "rectangles. The number of slits to be made is given as N.\n",
    "The task is to find the maximum number of equal squares or rectangles that can be achieved using N slits.\n",
    "Note:\n",
    "The square carpet can be cut only using horizontal or vertical slits.\n",
    "Cuttings are done on a single carpet which should be rolled out completely i.e. no folding or stacking is\n",
    "allowed.\n",
    "Squares or rectangles cut should be equal size \n",
    "\n",
    "```python\n",
    "Example 1:\n",
    "Input:\n",
    "4 → Value of N(No. of cuts)\n",
    "Output:\n",
    "9 → maximum number of equal squares or rectangles\n",
    "```"
   ]
  },
  {
   "cell_type": "markdown",
   "id": "03ee15c7",
   "metadata": {},
   "source": [
    "### 🔍 **Key Insight:**\n",
    "\n",
    "Each horizontal cut adds a new row.\n",
    "Each vertical cut adds a new column.\n",
    "\n",
    "So:\n",
    "\n",
    "    h = number of horizontal cuts → creates h + 1 rows\n",
    "\n",
    "    v = number of vertical cuts → creates v + 1 columns**\n",
    "\n",
    "    **Total pieces = (h + 1) * (v + 1)\n",
    "\n",
    "We are allowed N cuts in total, so:\n",
    "\n",
    "    h + v = N\n",
    "\n",
    "We want to maximize (h + 1)(v + 1)\n",
    "So we can try all possible values of h from 0 to N, and calculate corresponding v = N - h"
   ]
  },
  {
   "cell_type": "code",
   "execution_count": 10,
   "id": "5b0b04a3",
   "metadata": {},
   "outputs": [
    {
     "name": "stdout",
     "output_type": "stream",
     "text": [
      "9\n"
     ]
    }
   ],
   "source": [
    "def max_equal_prices(N):\n",
    "\n",
    "    max_pieces = 0\n",
    "\n",
    "    for h in range(N + 1):\n",
    "        v = N - h\n",
    "        pieces = (h + 1) * (v + 1)\n",
    "        if pieces > max_pieces:\n",
    "            max_pieces = pieces\n",
    "    return max_pieces\n",
    "\n",
    "N = 4\n",
    "print(max_equal_prices(N))"
   ]
  },
  {
   "cell_type": "markdown",
   "id": "fb1f56bf",
   "metadata": {},
   "source": [
    "### Q.4 A family is about to break their piggy bank to use the money for different purposes. The piggy bank here\n",
    "represents an array (arr[]) consisting of N coins. The family has to split the coins of piggy bank into smaller\n",
    "stack (sub-array) of coins such that the sum of the difference between the maximum value and the minimum\n",
    "value of the coins for all the stacks (sub-arrays) is maximum.\n",
    "Note: Each value of the array can be used only once that is only in one subarray.\n",
    "Constraints:\n",
    "1 <= N <= 500\n",
    "1 <=arr[i] <= 100\n",
    "\n",
    "```python\n",
    "Example 1:\n",
    "Input:\n",
    "5 → Value of N\n",
    "{8,1,7,9,2} → arr[] elements from arr[0] to arr [N-1],\n",
    "Where each element is separated by new line.\n",
    "Output:\n",
    "14\n",
    "```"
   ]
  },
  {
   "cell_type": "code",
   "execution_count": 13,
   "id": "db391690",
   "metadata": {},
   "outputs": [
    {
     "name": "stdout",
     "output_type": "stream",
     "text": [
      "Maximum difference sum: 14\n"
     ]
    }
   ],
   "source": [
    "def max_difference_sum(arr):\n",
    "    n = len(arr)\n",
    "\n",
    "    dp = [0] * (n + 1)\n",
    "\n",
    "    for i in range(1, n + 1):\n",
    "        max_val = arr[i - 1]\n",
    "        min_val = arr[i - 1]\n",
    "        for j in range(i - 1, -1, -1):\n",
    "            max_val = max(max_val, arr[j])\n",
    "            min_val = min(min_val, arr[j])\n",
    "            dp[i] = max(dp[i], dp[j] + (max_val - min_val))\n",
    "\n",
    "    return dp[n]\n",
    "\n",
    "\n",
    "N = 5\n",
    "arr = [8, 1, 7, 9, 2]\n",
    "print(\"Maximum difference sum:\", max_difference_sum(arr))"
   ]
  },
  {
   "cell_type": "markdown",
   "id": "a3c67b0a",
   "metadata": {},
   "source": [
    "### Q5. Given a non-negative integer array Arr having size N. Each element of the array will carry a different\n",
    "value. This means no two elements can have the same values.The candidate has to do this with minimal\n",
    "changes in the original value of the elements, making every element as least as much value as it originally\n",
    "had.\n",
    "Find the minimum sum of all elements that can be set the array for:\n",
    "\n",
    "```python\n",
    "Example 1:\n",
    "Input\n",
    "3 -> Value of N, represents size of Arr\n",
    "2 -> Value of Arr[0]\n",
    "2-> Value of Arr[1]\n",
    "4-> Value of Arr[2]\n",
    "Output\n",
    "9\n",
    "Explanation:\n",
    "As two elements have the same value, max value for the one of them needs to be incremented to 3.\n",
    "He can set the array with 2+3+4=9\n",
    "```"
   ]
  },
  {
   "cell_type": "code",
   "execution_count": null,
   "id": "0826d490",
   "metadata": {},
   "outputs": [
    {
     "name": "stdout",
     "output_type": "stream",
     "text": [
      "Minimum sum after modifications: 35\n"
     ]
    }
   ],
   "source": [
    "def min_sum_after_modifications(N, arr):\n",
    "\n",
    "    arr.sort()\n",
    "\n",
    "    for i in range(1, N):\n",
    "        if arr[i] <= arr[i - 1]:\n",
    "            arr[i] = arr[i - 1] + 1\n",
    "    return sum(arr)\n",
    "\n",
    "N = 3\n",
    "arr = [2,2,3,4]\n",
    "print(\"Minimum sum after modifications:\", min_sum_after_modifications(N, arr))"
   ]
  }
 ],
 "metadata": {
  "kernelspec": {
   "display_name": "Python 3",
   "language": "python",
   "name": "python3"
  },
  "language_info": {
   "codemirror_mode": {
    "name": "ipython",
    "version": 3
   },
   "file_extension": ".py",
   "mimetype": "text/x-python",
   "name": "python",
   "nbconvert_exporter": "python",
   "pygments_lexer": "ipython3",
   "version": "3.10.5"
  }
 },
 "nbformat": 4,
 "nbformat_minor": 5
}
