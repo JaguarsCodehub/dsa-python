{
 "cells": [
  {
   "cell_type": "markdown",
   "id": "05689504",
   "metadata": {},
   "source": [
    "## **Strings Code Sheet**"
   ]
  },
  {
   "cell_type": "markdown",
   "id": "f3e28476",
   "metadata": {},
   "source": [
    "### Check if a given string is palindrome or not"
   ]
  },
  {
   "cell_type": "code",
   "execution_count": 2,
   "id": "163ede94",
   "metadata": {},
   "outputs": [
    {
     "name": "stdout",
     "output_type": "stream",
     "text": [
      "True\n"
     ]
    }
   ],
   "source": [
    "def isPalindrome():\n",
    "    s = input().strip()\n",
    "\n",
    "    return s == s[::-1]\n",
    "\n",
    "\n",
    "print(isPalindrome())"
   ]
  },
  {
   "cell_type": "markdown",
   "id": "2a8a0b42",
   "metadata": {},
   "source": [
    "### Count number of vowels, consonants, spaces in String"
   ]
  },
  {
   "cell_type": "code",
   "execution_count": 5,
   "id": "4d714dcd",
   "metadata": {},
   "outputs": [
    {
     "name": "stdout",
     "output_type": "stream",
     "text": [
      "Vowels: 10\n",
      "Consonants: 11\n",
      "White spaces: 4\n"
     ]
    }
   ],
   "source": [
    "def count_vowels_consonants(s):\n",
    "    vowels_set = set(\"aeiouAEIOU\")\n",
    "    vowels = consonants = spaces = 0\n",
    "\n",
    "    for char in s:\n",
    "        if char in vowels_set:\n",
    "            vowels += 1\n",
    "        elif char.isalpha():\n",
    "            consonants += 1\n",
    "        elif char.isspace():\n",
    "            spaces += 1\n",
    "    return vowels, consonants, spaces\n",
    "\n",
    "s = \"Take u forward is Awesome\"\n",
    "v, c, sp = count_vowels_consonants(s)\n",
    "\n",
    "print(\"Vowels:\", v)\n",
    "print(\"Consonants:\", c)\n",
    "print(\"White spaces:\", sp)"
   ]
  },
  {
   "cell_type": "markdown",
   "id": "29154777",
   "metadata": {},
   "source": [
    "### Remove characters from a string except alphabets"
   ]
  },
  {
   "cell_type": "code",
   "execution_count": 1,
   "id": "f2d2b0e3",
   "metadata": {},
   "outputs": [
    {
     "name": "stdout",
     "output_type": "stream",
     "text": [
      "TakeuforwardisFuckUAwesome\n"
     ]
    }
   ],
   "source": [
    "def remove_nonAlphabets(s):\n",
    "    result = \"\"\n",
    "\n",
    "    for char in s:\n",
    "        if char.isalpha():\n",
    "            result += char\n",
    "\n",
    "    return result\n",
    "\n",
    "s = \"Take^u!forward$@#isFuck()UAwesome\"\n",
    "result = remove_nonAlphabets(s)\n",
    "print(result)"
   ]
  },
  {
   "cell_type": "markdown",
   "id": "1f147f49",
   "metadata": {},
   "source": [
    "### Sum of the numbers in a String"
   ]
  },
  {
   "cell_type": "code",
   "execution_count": 4,
   "id": "c409b65f",
   "metadata": {},
   "outputs": [
    {
     "name": "stdout",
     "output_type": "stream",
     "text": [
      "45\n"
     ]
    }
   ],
   "source": [
    "def sumOfNumbersInString(s):\n",
    "    total = 0\n",
    "    current_num = ''\n",
    "    \n",
    "    for char in s:\n",
    "        if char.isdigit():\n",
    "            current_num += char\n",
    "        else:\n",
    "            if current_num:\n",
    "                total += int(current_num)\n",
    "                current_num = ''\n",
    "        \n",
    "    if current_num:\n",
    "        total += int(current_num)\n",
    "\n",
    "    return total\n",
    "\n",
    "\n",
    "s = \"1a2b3c4d5e6f7g8h9i\"\n",
    "result = sumOfNumbersInString(s)\n",
    "print(result)"
   ]
  },
  {
   "cell_type": "markdown",
   "id": "0f6f4ff4",
   "metadata": {},
   "source": [
    "### Frequency of alphabets in a String"
   ]
  },
  {
   "cell_type": "code",
   "execution_count": 7,
   "id": "947530e9",
   "metadata": {},
   "outputs": [
    {
     "name": "stdout",
     "output_type": "stream",
     "text": [
      "{'T': 1, 'a': 2, 'k': 1, 'e': 3, ' ': 4, 'u': 1, 'f': 1, 'o': 2, 'r': 2, 'w': 2, 'd': 1, 'i': 1, 's': 2, 'A': 1, 'm': 1}\n"
     ]
    }
   ],
   "source": [
    "def find_frequency(str):\n",
    "    freq = {}\n",
    "\n",
    "    for char in str:\n",
    "        if char in freq:\n",
    "            freq[char] += 1\n",
    "        else:\n",
    "            freq[char] = 1\n",
    "        \n",
    "    return freq\n",
    "\n",
    "\n",
    "s = \"Take u forward is Awesome\"\n",
    "result = find_frequency(s)\n",
    "print(result)"
   ]
  },
  {
   "cell_type": "markdown",
   "id": "7418f048",
   "metadata": {},
   "source": [
    "### Max Occuring CHaracter"
   ]
  },
  {
   "cell_type": "code",
   "execution_count": 11,
   "id": "1e90692f",
   "metadata": {},
   "outputs": [
    {
     "name": "stdout",
     "output_type": "stream",
     "text": [
      "e\n"
     ]
    }
   ],
   "source": [
    "def max_occuring_char(s):\n",
    "    freq = {}\n",
    "\n",
    "    for char in s:\n",
    "        if char in freq:\n",
    "            freq[char] += 1\n",
    "        else:\n",
    "            freq[char] = 1\n",
    "\n",
    "    # Find the character with maximum frequency\n",
    "    max_char = max(freq, key=freq.get)\n",
    "    return max_char\n",
    "\n",
    "s = \"take you forward eeee\"\n",
    "result = max_occuring_char(s)\n",
    "print(result)"
   ]
  },
  {
   "cell_type": "markdown",
   "id": "3bc8d797",
   "metadata": {},
   "source": [
    "### Remove Duplicates from a string"
   ]
  },
  {
   "cell_type": "code",
   "execution_count": 13,
   "id": "8df37757",
   "metadata": {},
   "outputs": [
    {
     "name": "stdout",
     "output_type": "stream",
     "text": [
      "Progamin\n"
     ]
    }
   ],
   "source": [
    "def remove_duplicates(s):\n",
    "    seen = set()\n",
    "    result = \"\"\n",
    "\n",
    "    for char in s:\n",
    "        if char not in seen:\n",
    "            seen.add(char)\n",
    "            result += char\n",
    "    return result\n",
    "\n",
    "s = \"Programming\"\n",
    "result = remove_duplicates(s)\n",
    "print(result)"
   ]
  },
  {
   "cell_type": "markdown",
   "id": "7800c4ff",
   "metadata": {},
   "source": [
    "### sort characters"
   ]
  },
  {
   "cell_type": "code",
   "execution_count": 16,
   "id": "9a020dea",
   "metadata": {},
   "outputs": [
    {
     "name": "stdout",
     "output_type": "stream",
     "text": [
      "Paggimmnorr\n"
     ]
    }
   ],
   "source": [
    "def sort_characters(s):\n",
    "\n",
    "    letters = []\n",
    "\n",
    "    for char in s:\n",
    "        if char.isalpha():\n",
    "            letters.append(char)\n",
    "        \n",
    "    letters.sort()\n",
    "    return \"\".join(letters)\n",
    "\n",
    "s = \"Programming\"\n",
    "result = sort_characters(s)\n",
    "print(result)"
   ]
  },
  {
   "cell_type": "markdown",
   "id": "ab9f21e0",
   "metadata": {},
   "source": [
    "### Change Case of alphaets in a string"
   ]
  },
  {
   "cell_type": "code",
   "execution_count": null,
   "id": "b3e313fb",
   "metadata": {},
   "outputs": [
    {
     "name": "stdout",
     "output_type": "stream",
     "text": [
      "pROGRAMMING\n"
     ]
    }
   ],
   "source": [
    "def change_case(s):\n",
    "    return s.swapcase()\n",
    "\n",
    "s = \"Programming\"\n",
    "result = change_case(s)\n",
    "print(result)"
   ]
  },
  {
   "cell_type": "code",
   "execution_count": 20,
   "id": "e985224d",
   "metadata": {},
   "outputs": [
    {
     "name": "stdout",
     "output_type": "stream",
     "text": [
      "pROGRAMMING\n"
     ]
    }
   ],
   "source": [
    "def change_case(s):\n",
    "    result = ''\n",
    "\n",
    "    for char in s:\n",
    "        if 'a' <= char <= 'z':\n",
    "            result += chr(ord(char) - 32)\n",
    "        elif 'A' <= char <= 'Z':\n",
    "            result += chr(ord(char) + 32)\n",
    "        else:\n",
    "            result += char\n",
    "    \n",
    "    return result\n",
    "\n",
    "s = \"Programming\"\n",
    "result = change_case(s)\n",
    "print(result)"
   ]
  },
  {
   "cell_type": "markdown",
   "id": "3a806c89",
   "metadata": {},
   "source": [
    "### find the first occurrence of str1 in str2"
   ]
  },
  {
   "cell_type": "code",
   "execution_count": 21,
   "id": "718b42c1",
   "metadata": {},
   "outputs": [
    {
     "name": "stdout",
     "output_type": "stream",
     "text": [
      "15\n"
     ]
    }
   ],
   "source": [
    "def find_occurence(text, pattern):\n",
    "    index = text.find(pattern)\n",
    "\n",
    "    return index\n",
    "\n",
    "text = \"Take u forward is Awesome\"\n",
    "pattern = \"is\"\n",
    "\n",
    "result = find_occurence(text, pattern)\n",
    "print(result)"
   ]
  }
 ],
 "metadata": {
  "kernelspec": {
   "display_name": "Python 3",
   "language": "python",
   "name": "python3"
  },
  "language_info": {
   "codemirror_mode": {
    "name": "ipython",
    "version": 3
   },
   "file_extension": ".py",
   "mimetype": "text/x-python",
   "name": "python",
   "nbconvert_exporter": "python",
   "pygments_lexer": "ipython3",
   "version": "3.10.5"
  }
 },
 "nbformat": 4,
 "nbformat_minor": 5
}
