{
 "cells": [
  {
   "cell_type": "markdown",
   "id": "05689504",
   "metadata": {},
   "source": [
    "## **Strings Code Sheet**"
   ]
  },
  {
   "cell_type": "markdown",
   "id": "f3e28476",
   "metadata": {},
   "source": [
    "### Check if a given string is palindrome or not"
   ]
  },
  {
   "cell_type": "code",
   "execution_count": 2,
   "id": "163ede94",
   "metadata": {},
   "outputs": [
    {
     "name": "stdout",
     "output_type": "stream",
     "text": [
      "True\n"
     ]
    }
   ],
   "source": [
    "def isPalindrome():\n",
    "    s = input().strip()\n",
    "\n",
    "    return s == s[::-1]\n",
    "\n",
    "\n",
    "print(isPalindrome())"
   ]
  },
  {
   "cell_type": "markdown",
   "id": "2a8a0b42",
   "metadata": {},
   "source": [
    "### Count number of vowels, consonants, spaces in String"
   ]
  },
  {
   "cell_type": "code",
   "execution_count": 5,
   "id": "4d714dcd",
   "metadata": {},
   "outputs": [
    {
     "name": "stdout",
     "output_type": "stream",
     "text": [
      "Vowels: 10\n",
      "Consonants: 11\n",
      "White spaces: 4\n"
     ]
    }
   ],
   "source": [
    "def count_vowels_consonants(s):\n",
    "    vowels_set = set(\"aeiouAEIOU\")\n",
    "    vowels = consonants = spaces = 0\n",
    "\n",
    "    for char in s:\n",
    "        if char in vowels_set:\n",
    "            vowels += 1\n",
    "        elif char.isalpha():\n",
    "            consonants += 1\n",
    "        elif char.isspace():\n",
    "            spaces += 1\n",
    "    return vowels, consonants, spaces\n",
    "\n",
    "s = \"Take u forward is Awesome\"\n",
    "v, c, sp = count_vowels_consonants(s)\n",
    "\n",
    "print(\"Vowels:\", v)\n",
    "print(\"Consonants:\", c)\n",
    "print(\"White spaces:\", sp)"
   ]
  }
 ],
 "metadata": {
  "kernelspec": {
   "display_name": "Python 3",
   "language": "python",
   "name": "python3"
  },
  "language_info": {
   "codemirror_mode": {
    "name": "ipython",
    "version": 3
   },
   "file_extension": ".py",
   "mimetype": "text/x-python",
   "name": "python",
   "nbconvert_exporter": "python",
   "pygments_lexer": "ipython3",
   "version": "3.10.5"
  }
 },
 "nbformat": 4,
 "nbformat_minor": 5
}
