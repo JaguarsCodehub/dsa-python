{
 "cells": [
  {
   "cell_type": "markdown",
   "id": "577d433b",
   "metadata": {},
   "source": [
    "## **Number Systems Code Sheet**"
   ]
  },
  {
   "cell_type": "markdown",
   "id": "f90ce547",
   "metadata": {},
   "source": [
    "### Decimal to Binary"
   ]
  },
  {
   "cell_type": "code",
   "execution_count": 4,
   "id": "3283187d",
   "metadata": {},
   "outputs": [
    {
     "data": {
      "text/plain": [
       "11"
      ]
     },
     "execution_count": 4,
     "metadata": {},
     "output_type": "execute_result"
    }
   ],
   "source": [
    "def binary_to_decimal(binary_str):\n",
    "    decimal = 0\n",
    "    binary_str = binary_str[::-1]\n",
    "\n",
    "    for i in range(len(binary_str)):\n",
    "        if binary_str[i] == '1':\n",
    "            decimal += 2 ** i\n",
    "\n",
    "    return decimal\n",
    "\n",
    "binary_str = '1011'\n",
    "binary_to_decimal(binary_str)"
   ]
  },
  {
   "cell_type": "markdown",
   "id": "b08c6be2",
   "metadata": {},
   "source": [
    "### Numbers to Words"
   ]
  },
  {
   "cell_type": "code",
   "execution_count": 6,
   "id": "6e9c1545",
   "metadata": {},
   "outputs": [
    {
     "name": "stdout",
     "output_type": "stream",
     "text": [
      "two hundred thirty four\n"
     ]
    }
   ],
   "source": [
    "def numberToWords(n):\n",
    "\n",
    "        ones = [\n",
    "            \"zero\", \n",
    "            \"one\", \n",
    "            \"two\", \n",
    "            \"three\", \n",
    "            \"four\", \n",
    "            \"five\", \n",
    "            \"six\", \n",
    "            \"seven\", \n",
    "            \"eight\", \n",
    "            \"nine\"\n",
    "        ]\n",
    "        teens = [\n",
    "            \"ten\", \n",
    "            \"eleven\", \n",
    "            \"twelve\", \n",
    "            \"thirteen\", \n",
    "            \"fourteen\", \n",
    "            \"fifteen\",\n",
    "            \"sixteen\", \n",
    "            \"seventeen\", \n",
    "            \"eighteen\", \n",
    "            \"nineteen\"\n",
    "        ]\n",
    "        tens = [\n",
    "            \"\", \n",
    "            \"\", \n",
    "            \"twenty\", \n",
    "            \"thirty\", \n",
    "            \"forty\", \n",
    "            \"fifty\",\n",
    "            \"sixty\", \n",
    "            \"seventy\", \n",
    "            \"eighty\", \n",
    "            \"ninety\"\n",
    "        ]\n",
    "\n",
    "        def two_digits(num):\n",
    "            if num < 10:\n",
    "                return ones[num]\n",
    "            elif num < 20:\n",
    "                return teens[num - 10]\n",
    "            else:\n",
    "                return tens[num // 10] + (\" \" + ones[num % 10] if num % 10 != 0 else \"\")\n",
    "            \n",
    "        def three_digits(num):\n",
    "            if num < 100:\n",
    "                return two_digits(num)\n",
    "            else: \n",
    "                return ones[num // 100] + \" hundred\" + (\n",
    "                    \" \" + two_digits(num % 100) if num % 100 != 0 else \"\"\n",
    "                )\n",
    "            \n",
    "        if n == 0:\n",
    "            return \"zero\"\n",
    "        elif n < 1000:\n",
    "            return three_digits(n)\n",
    "        elif n < 10000:\n",
    "            thousands = n // 1000\n",
    "            remainder = n % 1000\n",
    "            result = ones[thousands] + \" thousand\"\n",
    "            if remainder:\n",
    "                result += \" \" + three_digits(remainder)\n",
    "            return result\n",
    "        else:\n",
    "            return \"Number out of supported range\"\n",
    "        \n",
    "\n",
    "\n",
    "# Read Input\n",
    "T = int(input())\n",
    "for _ in range(T):\n",
    "    N = int(input())\n",
    "    print(numberToWords(N))\n",
    "            "
   ]
  }
 ],
 "metadata": {
  "kernelspec": {
   "display_name": "Python 3",
   "language": "python",
   "name": "python3"
  },
  "language_info": {
   "codemirror_mode": {
    "name": "ipython",
    "version": 3
   },
   "file_extension": ".py",
   "mimetype": "text/x-python",
   "name": "python",
   "nbconvert_exporter": "python",
   "pygments_lexer": "ipython3",
   "version": "3.10.5"
  }
 },
 "nbformat": 4,
 "nbformat_minor": 5
}
