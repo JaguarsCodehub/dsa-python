{
 "cells": [
  {
   "cell_type": "markdown",
   "id": "da41586b",
   "metadata": {},
   "source": [
    "### **Find the Smallest Number in an Array**"
   ]
  },
  {
   "cell_type": "code",
   "execution_count": null,
   "id": "aba69517",
   "metadata": {},
   "outputs": [
    {
     "name": "stdout",
     "output_type": "stream",
     "text": [
      "2\n"
     ]
    }
   ],
   "source": [
    "def find_smallest(arr):\n",
    "\n",
    "    smallest = arr[0]\n",
    "\n",
    "    for num in arr:\n",
    "        if num < smallest:\n",
    "            smallest = num\n",
    "\n",
    "    return smallest\n",
    "\n",
    "arr = [5, 7, 6, 9, 2]\n",
    "print(\"Smallest Number in the Array:\",find_smallest(arr))"
   ]
  },
  {
   "cell_type": "markdown",
   "id": "0bb7642d",
   "metadata": {},
   "source": [
    "### **Find the largest number in an array**"
   ]
  },
  {
   "cell_type": "code",
   "execution_count": 6,
   "id": "a199aa64",
   "metadata": {},
   "outputs": [
    {
     "name": "stdout",
     "output_type": "stream",
     "text": [
      "Largest Number in the Array: 9\n"
     ]
    }
   ],
   "source": [
    "def find_largest(arr):\n",
    "    if len(arr) < 1:\n",
    "        return None\n",
    "\n",
    "    largest = arr[0]\n",
    "\n",
    "    for num in arr:\n",
    "        if num > largest:\n",
    "            largest = num\n",
    "\n",
    "    return largest\n",
    "\n",
    "arr = [5, 7, 6, 9, 2]\n",
    "print(\"Largest Number in the Array:\",find_largest(arr))"
   ]
  },
  {
   "cell_type": "markdown",
   "id": "ff89cc20",
   "metadata": {},
   "source": [
    "### Second Smallest and Second largest in an Array"
   ]
  },
  {
   "cell_type": "code",
   "execution_count": null,
   "id": "b825cbbc",
   "metadata": {},
   "outputs": [
    {
     "name": "stdout",
     "output_type": "stream",
     "text": [
      "Second Smallest: (2, 1)\n",
      "Second Largest: (6, 5)\n"
     ]
    }
   ],
   "source": [
    "def find_second_largest_smallest(arr):\n",
    "    if len(arr) < 2:\n",
    "        return None, None\n",
    "    \n",
    "    smallest = largest = arr[0]\n",
    "    second_smallest, second_largest = None, None\n",
    "\n",
    "    for num in arr[1:]:\n",
    "        if num < smallest:\n",
    "            second_smallest = smallest\n",
    "            smallest = num\n",
    "        elif num != smallest and (second_smallest is None or num < second_smallest):\n",
    "            second_smallest = num\n",
    "\n",
    "        if num > largest:\n",
    "            second_largest = largest\n",
    "            largest = num\n",
    "        elif num != largest and (second_largest is None or num > second_largest):\n",
    "            second_largest = num\n",
    "    \n",
    "    if second_smallest is None or second_largest is None:\n",
    "        return None, None\n",
    "    \n",
    "    # Return indexes\n",
    "    second_smallest_idx = arr.index(second_smallest)\n",
    "    second_largest_idx = arr.index(second_largest)\n",
    "\n",
    "    return (second_smallest, second_smallest_idx), (second_largest, second_largest_idx)\n",
    "\n",
    "arr = [4, 2, 9, 1, 5, 6, 9, 2]\n",
    "second_smallest, second_largest = find_second_largest_smallest(arr)\n",
    "print(\"Second Smallest:\", second_smallest)  # ➜ (2, 1)\n",
    "print(\"Second Largest:\", second_largest)    # ➜ (6, 5)"
   ]
  },
  {
   "cell_type": "markdown",
   "id": "ba7c7dca",
   "metadata": {},
   "source": [
    "### Reverse a given array"
   ]
  },
  {
   "cell_type": "code",
   "execution_count": 22,
   "id": "6f3d7c9f",
   "metadata": {},
   "outputs": [
    {
     "name": "stdout",
     "output_type": "stream",
     "text": [
      "[5, 4, 3, 2, 1]\n"
     ]
    }
   ],
   "source": [
    "def reverse_array(arr):\n",
    "    return arr[::-1]\n",
    "\n",
    "arr = [1, 2, 3, 4, 5]\n",
    "print(reverse_array(arr))"
   ]
  },
  {
   "cell_type": "markdown",
   "id": "3e26c2d7",
   "metadata": {},
   "source": [
    "### Count frequency of each element in an array"
   ]
  },
  {
   "cell_type": "code",
   "execution_count": 25,
   "id": "ce6deb5d",
   "metadata": {},
   "outputs": [
    {
     "name": "stdout",
     "output_type": "stream",
     "text": [
      "1 2\n",
      "2 3\n",
      "3 2\n",
      "4 3\n",
      "5 3\n"
     ]
    }
   ],
   "source": [
    "def count_frequency(arr):\n",
    "    frequency = {}\n",
    "\n",
    "    for num in arr:\n",
    "        if num in frequency:\n",
    "            frequency[num] += 1\n",
    "        else:\n",
    "            frequency[num] = 1\n",
    "\n",
    "    return frequency\n",
    "\n",
    "arr = [1, 2, 3, 4, 5, 1, 2, 3, 4, 5, 5, 4, 2]\n",
    "freq = count_frequency(arr)\n",
    "\n",
    "for key in freq:\n",
    "    print(key, freq[key])"
   ]
  },
  {
   "cell_type": "markdown",
   "id": "64ae248d",
   "metadata": {},
   "source": [
    "### Find all repeating elements in an array"
   ]
  },
  {
   "cell_type": "code",
   "execution_count": 37,
   "id": "9d7922e1",
   "metadata": {},
   "outputs": [
    {
     "name": "stdout",
     "output_type": "stream",
     "text": [
      "[1, 2, 3, 4, 5]\n"
     ]
    }
   ],
   "source": [
    "def repeating_elements(arr):\n",
    "    freq = {}\n",
    "    result = []\n",
    "\n",
    "    for num in arr:\n",
    "        if num in freq:\n",
    "            freq[num] += 1\n",
    "        else:\n",
    "            freq[num] = 1\n",
    "\n",
    "    for key, count in freq.items():\n",
    "        if count > 1:\n",
    "            result.append(key)\n",
    "\n",
    "    return result\n",
    "\n",
    "arr = [1, 2, 3, 4, 5, 1, 2, 3, 4, 5, 5, 4, 2]\n",
    "print(repeating_elements(arr))"
   ]
  },
  {
   "cell_type": "markdown",
   "id": "aa48f874",
   "metadata": {},
   "source": [
    "### Calculate sum of all elements in an array"
   ]
  },
  {
   "cell_type": "code",
   "execution_count": 38,
   "id": "e77fa71d",
   "metadata": {},
   "outputs": [
    {
     "name": "stdout",
     "output_type": "stream",
     "text": [
      "55\n"
     ]
    }
   ],
   "source": [
    "def sum_array(arr):\n",
    "    result = 0\n",
    "    for num in arr:\n",
    "        result += num\n",
    "    return result\n",
    "\n",
    "arr = [1,2,3,4,5,6,7,8,9,10]\n",
    "print(sum_array(arr))"
   ]
  },
  {
   "cell_type": "markdown",
   "id": "3b86c609",
   "metadata": {},
   "source": [
    "### Average of all elements in an array"
   ]
  },
  {
   "cell_type": "code",
   "execution_count": 39,
   "id": "062192ab",
   "metadata": {},
   "outputs": [
    {
     "name": "stdout",
     "output_type": "stream",
     "text": [
      "5.5\n"
     ]
    }
   ],
   "source": [
    "def average_array(arr):\n",
    "    return sum(arr) / len(arr)\n",
    "\n",
    "arr = [1,2,3,4,5,6,7,8,9,10]\n",
    "print(average_array(arr))"
   ]
  },
  {
   "cell_type": "markdown",
   "id": "a83fa0ee",
   "metadata": {},
   "source": [
    "### Median of an Array"
   ]
  },
  {
   "cell_type": "code",
   "execution_count": 40,
   "id": "573f10a2",
   "metadata": {},
   "outputs": [
    {
     "name": "stdout",
     "output_type": "stream",
     "text": [
      "5\n"
     ]
    }
   ],
   "source": [
    "def  median_array(arr):\n",
    "    n = len(arr)\n",
    "\n",
    "    mid = n // 2\n",
    "\n",
    "    if n % 2 == 0:\n",
    "        median = (arr[mid - 1] + arr[mid]) // 2\n",
    "    else:\n",
    "        median = arr[mid]\n",
    "\n",
    "    return median\n",
    "\n",
    "arr = [1,2,3,4,5,6,7,8,9,10]\n",
    "print(median_array(arr))\n"
   ]
  },
  {
   "cell_type": "code",
   "execution_count": null,
   "id": "3bf946fd",
   "metadata": {},
   "outputs": [],
   "source": [
    "def median_array(arr):\n",
    "    n = len(arr)  # Calculate the length of the array\n",
    "\n",
    "    mid = n // 2  # Find the middle index of the array\n",
    "\n",
    "    if n % 2 == 0:  # Check if the array has an even number of elements\n",
    "        # If even, the median is the average of the two middle elements\n",
    "        median = (arr[mid - 1] + arr[mid]) // 2\n",
    "    else:\n",
    "        # If odd, the median is the middle element\n",
    "        median = arr[mid]\n",
    "\n",
    "    return median  # Return the calculated median\n",
    "\n",
    "arr = [1, 2, 3, 4, 5, 6, 7, 8, 9, 10]\n",
    "print(median_array(arr))"
   ]
  },
  {
   "cell_type": "markdown",
   "id": "2585cb9d",
   "metadata": {},
   "source": [
    "### Remove duplicates from Sorted Arrays"
   ]
  },
  {
   "cell_type": "code",
   "execution_count": null,
   "id": "24accf1e",
   "metadata": {},
   "outputs": [
    {
     "name": "stdout",
     "output_type": "stream",
     "text": [
      "[1, 2, 3, 4, 5]\n"
     ]
    }
   ],
   "source": [
    "def remove_duplicates_sorted(arr):\n",
    "    \n",
    "    result = [arr[0]]\n",
    "\n",
    "    for num in arr[1:]:\n",
    "        if num != result[-1]:\n",
    "            result.append(num)\n",
    "\n",
    "    return result\n",
    "\n",
    "arr = [1, 1, 2, 2, 3, 3, 4, 4, 5, 5]\n",
    "print(remove_duplicates_sorted(arr))"
   ]
  },
  {
   "cell_type": "code",
   "execution_count": 1,
   "id": "82256160",
   "metadata": {},
   "outputs": [
    {
     "name": "stdout",
     "output_type": "stream",
     "text": [
      "[1, 2, 3, 4, 5]\n"
     ]
    }
   ],
   "source": [
    "def remove_duplicates_sorted(arr):\n",
    "    # Initialize the result list with the first element of the array\n",
    "    result = [arr[0]]\n",
    "\n",
    "    # Iterate through the array starting from the second element\n",
    "    for num in arr[1:]:\n",
    "        # If the current number is not equal to the last number in the result list, add it to the result\n",
    "        if num != result[-1]:\n",
    "            result.append(num)\n",
    "\n",
    "    # Return the result list which contains unique elements\n",
    "    return result\n",
    "\n",
    "# Input array with duplicates (sorted)\n",
    "arr = [1, 1, 2, 2, 3, 3, 4, 4, 5, 5]\n",
    "\n",
    "# Call the function and print the result\n",
    "print(remove_duplicates_sorted(arr))"
   ]
  },
  {
   "cell_type": "markdown",
   "id": "b0823662",
   "metadata": {},
   "source": [
    "### Remove duplicates from Unsorted Arrays"
   ]
  },
  {
   "cell_type": "code",
   "execution_count": 42,
   "id": "89884e4d",
   "metadata": {},
   "outputs": [
    {
     "name": "stdout",
     "output_type": "stream",
     "text": [
      "[1, 2, 3, 4, 5]\n"
     ]
    }
   ],
   "source": [
    "def remove_duplicates_unsorted(arr):\n",
    "    seen = {}\n",
    "    result = []\n",
    "\n",
    "    for num in arr:\n",
    "        if num not in seen:\n",
    "            seen[num] = 1\n",
    "            result.append(num)\n",
    "\n",
    "    return result\n",
    "\n",
    "arr = [1, 2, 3, 4, 5, 1, 2, 3, 4, 5]\n",
    "print(remove_duplicates_unsorted(arr))"
   ]
  },
  {
   "cell_type": "markdown",
   "id": "9513d37e",
   "metadata": {},
   "source": [
    "### Search an Element in an Array"
   ]
  },
  {
   "cell_type": "code",
   "execution_count": 2,
   "id": "eed132bc",
   "metadata": {},
   "outputs": [
    {
     "name": "stdout",
     "output_type": "stream",
     "text": [
      "Element 3 found at index(es): [4, 5]\n"
     ]
    }
   ],
   "source": [
    "def search_element(arr, target):\n",
    "    # Initialize an empty list to store the indices where the target is found\n",
    "    indices = []\n",
    "\n",
    "    # Iterate through the array using its indices\n",
    "    for i in range(len(arr)):\n",
    "        # Check if the current element matches the target\n",
    "        if arr[i] == target:\n",
    "            # If a match is found, append the index to the indices list\n",
    "            indices.append(i)\n",
    "        \n",
    "    # After the loop, check if the indices list is empty\n",
    "    if not indices:\n",
    "        # If no indices were added, it means the target was not found in the array\n",
    "        return \"Element not found\"\n",
    "    else:\n",
    "        # If indices were added, return the list of indices where the target was found\n",
    "        return indices\n",
    "    \n",
    "# Input array (already defined in the notebook as 'arr')\n",
    "arr = [1, 1, 2, 2, 3, 3, 4, 4, 5, 5]\n",
    "\n",
    "# Target element to search for\n",
    "target = 3\n",
    "\n",
    "# Call the function to search for the target in the array\n",
    "result = search_element(arr, target)\n",
    "\n",
    "# Print the result, showing the indices where the target was found\n",
    "print(f\"Element {target} found at index(es):\", result)"
   ]
  }
 ],
 "metadata": {
  "kernelspec": {
   "display_name": "Python 3",
   "language": "python",
   "name": "python3"
  },
  "language_info": {
   "codemirror_mode": {
    "name": "ipython",
    "version": 3
   },
   "file_extension": ".py",
   "mimetype": "text/x-python",
   "name": "python",
   "nbconvert_exporter": "python",
   "pygments_lexer": "ipython3",
   "version": "3.10.5"
  }
 },
 "nbformat": 4,
 "nbformat_minor": 5
}
